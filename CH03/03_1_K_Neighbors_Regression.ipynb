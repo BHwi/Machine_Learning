{
  "nbformat": 4,
  "nbformat_minor": 0,
  "metadata": {
    "colab": {
      "name": "03_1_K Neighbors Regression.ipynb",
      "provenance": [],
      "authorship_tag": "ABX9TyNlb99LvhOeEDT9wrWQQPjK",
      "include_colab_link": true
    },
    "kernelspec": {
      "name": "python3",
      "display_name": "Python 3"
    }
  },
  "cells": [
    {
      "cell_type": "markdown",
      "metadata": {
        "id": "view-in-github",
        "colab_type": "text"
      },
      "source": [
        "<a href=\"https://colab.research.google.com/github/BHwi/Machine_Learning/blob/main/CH03/03_1_K_Neighbors_Regression.ipynb\" target=\"_parent\"><img src=\"https://colab.research.google.com/assets/colab-badge.svg\" alt=\"Open In Colab\"/></a>"
      ]
    },
    {
      "cell_type": "markdown",
      "metadata": {
        "id": "U5mDmDAk1V2z"
      },
      "source": [
        "---\r\n",
        "**K-최근접 이웃 회귀**\r\n",
        "\r\n",
        "*   K-최근접 알고리즘으로 학습된 머신으로 어떠한 input 데이터 값에 해당하는 데이터를 예측하는 알고리즘\r\n",
        "*   예) 농어의 길이와 무게를 학습한 머신으로 농어의 길이를 통해 무게를 예측.\r\n",
        "\r\n",
        "**회귀란**\r\n",
        "\r\n",
        "*   두 변수 사이의 상관관계를 분석하는 방법"
      ]
    },
    {
      "cell_type": "markdown",
      "metadata": {
        "id": "6K6pWb0J2JLn"
      },
      "source": [
        "---\r\n",
        "**농어 데이터 학습**"
      ]
    },
    {
      "cell_type": "code",
      "metadata": {
        "id": "PU_4ivoV07W_"
      },
      "source": [
        "import numpy as np\r\n",
        "perch_length = np.array([8.4, 13.7, 15.0, 16.2, 17.4, 18.0, 18.7, 19.0, 19.6, 20.0, 21.0,\r\n",
        "       21.0, 21.0, 21.3, 22.0, 22.0, 22.0, 22.0, 22.0, 22.5, 22.5, 22.7,\r\n",
        "       23.0, 23.5, 24.0, 24.0, 24.6, 25.0, 25.6, 26.5, 27.3, 27.5, 27.5,\r\n",
        "       27.5, 28.0, 28.7, 30.0, 32.8, 34.5, 35.0, 36.5, 36.0, 37.0, 37.0,\r\n",
        "       39.0, 39.0, 39.0, 40.0, 40.0, 40.0, 40.0, 42.0, 43.0, 43.0, 43.5,\r\n",
        "       44.0])\r\n",
        "perch_weight = np.array([5.9, 32.0, 40.0, 51.5, 70.0, 100.0, 78.0, 80.0, 85.0, 85.0, 110.0,\r\n",
        "       115.0, 125.0, 130.0, 120.0, 120.0, 130.0, 135.0, 110.0, 130.0,\r\n",
        "       150.0, 145.0, 150.0, 170.0, 225.0, 145.0, 188.0, 180.0, 197.0,\r\n",
        "       218.0, 300.0, 260.0, 265.0, 250.0, 250.0, 300.0, 320.0, 514.0,\r\n",
        "       556.0, 840.0, 685.0, 700.0, 700.0, 690.0, 900.0, 650.0, 820.0,\r\n",
        "       850.0, 900.0, 1015.0, 820.0, 1100.0, 1000.0, 1100.0, 1000.0,\r\n",
        "       1000.0])"
      ],
      "execution_count": 3,
      "outputs": []
    },
    {
      "cell_type": "markdown",
      "metadata": {
        "id": "hXWwaZpD2WcY"
      },
      "source": [
        "**산점도 출력**"
      ]
    },
    {
      "cell_type": "code",
      "metadata": {
        "colab": {
          "base_uri": "https://localhost:8080/",
          "height": 279
        },
        "id": "A8Yb5OKQ2SQq",
        "outputId": "6b82434c-61e2-48e9-d563-dd488478e379"
      },
      "source": [
        "import matplotlib.pyplot as plt\r\n",
        "\r\n",
        "plt.scatter(perch_length, perch_weight)\r\n",
        "plt.xlabel('length')\r\n",
        "plt.ylabel('weight')\r\n",
        "plt.show()"
      ],
      "execution_count": 4,
      "outputs": [
        {
          "output_type": "display_data",
          "data": {
            "image/png": "[encoded data removed]",
            "text/plain": [
              "<Figure size 432x288 with 1 Axes>"
            ]
          },
          "metadata": {
            "tags": [],
            "needs_background": "light"
          }
        }
      ]
    },
    {
      "cell_type": "markdown",
      "metadata": {
        "id": "4iiHwfXI2nOX"
      },
      "source": [
        "---\r\n",
        "**머신러닝을 위해 훈련세트와 테스트세트 분할(책과 동일한 결과를 얻기 위해 random_state의 값은 42로 설정**"
      ]
    },
    {
      "cell_type": "code",
      "metadata": {
        "id": "Pa7X_Buq2usT"
      },
      "source": [
        "from sklearn.model_selection import train_test_split\r\n",
        "\r\n",
        "train_input, test_input, train_target, test_target = train_test_split(perch_length, perch_weight, random_state = 42)"
      ],
      "execution_count": 6,
      "outputs": []
    },
    {
      "cell_type": "markdown",
      "metadata": {
        "id": "M9cOq3Pf3FFR"
      },
      "source": [
        "**사이킷런에서 사용할 훈련 세트는 2차원 배열이어야 하므로 넘파이를 이용하여 억지로 2차원 배열로 재설정(reshape 함수 이용)**"
      ]
    },
    {
      "cell_type": "code",
      "metadata": {
        "colab": {
          "base_uri": "https://localhost:8080/"
        },
        "id": "RVuHK_ox3S1M",
        "outputId": "5db3830f-9963-4153-9e2d-429d134cee79"
      },
      "source": [
        "train_input = train_input.reshape(-1, 1)\r\n",
        "test_input = test_input.reshape(-1, 1)\r\n",
        "\r\n",
        "print(\"train set\\n\", train_input,'\\n\\ntest set\\n', test_input)"
      ],
      "execution_count": 11,
      "outputs": [
        {
          "output_type": "stream",
          "text": [
            "train set\n",
            " [[19.6]\n",
            " [22. ]\n",
            " [18.7]\n",
            " [17.4]\n",
            " [36. ]\n",
            " [25. ]\n",
            " [40. ]\n",
            " [39. ]\n",
            " [43. ]\n",
            " [22. ]\n",
            " [20. ]\n",
            " [22. ]\n",
            " [24. ]\n",
            " [27.5]\n",
            " [43. ]\n",
            " [40. ]\n",
            " [24. ]\n",
            " [21. ]\n",
            " [27.5]\n",
            " [40. ]\n",
            " [32.8]\n",
            " [26.5]\n",
            " [36.5]\n",
            " [13.7]\n",
            " [22.7]\n",
            " [15. ]\n",
            " [37. ]\n",
            " [35. ]\n",
            " [28.7]\n",
            " [23.5]\n",
            " [39. ]\n",
            " [21. ]\n",
            " [23. ]\n",
            " [22. ]\n",
            " [44. ]\n",
            " [22.5]\n",
            " [19. ]\n",
            " [37. ]\n",
            " [22. ]\n",
            " [25.6]\n",
            " [42. ]\n",
            " [34.5]] \n",
            "\n",
            "test set\n",
            " [[ 8.4]\n",
            " [18. ]\n",
            " [27.5]\n",
            " [21.3]\n",
            " [22.5]\n",
            " [40. ]\n",
            " [30. ]\n",
            " [24.6]\n",
            " [39. ]\n",
            " [21. ]\n",
            " [43.5]\n",
            " [16.2]\n",
            " [28. ]\n",
            " [27.3]]\n"
          ],
          "name": "stdout"
        }
      ]
    },
    {
      "cell_type": "markdown",
      "metadata": {
        "id": "RazVfL6g4D88"
      },
      "source": [
        "---\r\n",
        "**K 최근접 이웃 회귀 알고리즘을 구현한 클래스는 'KNeighborRegressor' 라는 클래스로 KNeighborsClassifier과 사용법이 비슷하다**"
      ]
    },
    {
      "cell_type": "code",
      "metadata": {
        "colab": {
          "base_uri": "https://localhost:8080/"
        },
        "id": "HwFF1mdO4YMJ",
        "outputId": "c1973546-1f22-4b3e-cf86-9da0ebda2094"
      },
      "source": [
        "from sklearn.neighbors import KNeighborsRegressor\r\n",
        "\r\n",
        "knr = KNeighborsRegressor()\r\n",
        "\r\n",
        "knr.fit(train_input, train_target)\r\n",
        "\r\n",
        "print(knr.score(test_input, test_target))"
      ],
      "execution_count": 14,
      "outputs": [
        {
          "output_type": "stream",
          "text": [
            "0.9928094061010639\n"
          ],
          "name": "stdout"
        }
      ]
    },
    {
      "cell_type": "markdown",
      "metadata": {
        "id": "UeDRFjIT5L8t"
      },
      "source": [
        "**결정계수(R^2)**\r\n",
        "\r\n",
        "*   위에서 구한 score의 값은 다음과 같은 식으로 계산된다.\r\n",
        "*   R^2 = 1 - ((타깃 - 예측)^2 / (타깃 - 평균)^2)\r\n",
        "*   이 식은 타깃이 예측에 가까워지면 R^2이 1에 가까워진다는 뜻이며, 타깃이 평균에 가까워지면 R^2이 0에 가까워진다는 의미\r\n",
        "*   따라서 예측이 잘 되었다면 결정계수는 1에 가까워지며, 예측이 미흡할 경우 결정계수는 0에 가까워진다.\r\n"
      ]
    },
    {
      "cell_type": "markdown",
      "metadata": {
        "id": "VNyvzBAG55Au"
      },
      "source": [
        "---\r\n",
        "\r\n",
        "**오차 계산하기**"
      ]
    },
    {
      "cell_type": "code",
      "metadata": {
        "colab": {
          "base_uri": "https://localhost:8080/"
        },
        "id": "R9XmOklu52AR",
        "outputId": "f10e59c1-4a26-4cfe-aad9-b2d0913491f6"
      },
      "source": [
        "from sklearn.metrics import mean_absolute_error\r\n",
        "\r\n",
        "test_prediction = knr.predict(test_input)\r\n",
        "\r\n",
        "mae = mean_absolute_error(test_target, test_prediction)\r\n",
        "\r\n",
        "print(mae)"
      ],
      "execution_count": 15,
      "outputs": [
        {
          "output_type": "stream",
          "text": [
            "19.157142857142862\n"
          ],
          "name": "stdout"
        }
      ]
    },
    {
      "cell_type": "markdown",
      "metadata": {
        "id": "UqyaSyZs6Sfs"
      },
      "source": [
        "**→ 평균적으로 19g 오차가 있음**"
      ]
    },
    {
      "cell_type": "markdown",
      "metadata": {
        "id": "RRFwgqvZ6gBT"
      },
      "source": [
        "---\r\n",
        "**과대적합, 과소적합**\r\n",
        "\r\n",
        "*   훈련세트의 score를 출력\r\n"
      ]
    },
    {
      "cell_type": "code",
      "metadata": {
        "colab": {
          "base_uri": "https://localhost:8080/"
        },
        "id": "wnCSTUH86jqs",
        "outputId": "ceb5d3de-d299-498e-9ff5-7bdb74d671d6"
      },
      "source": [
        "print(knr.score(train_input, train_target))"
      ],
      "execution_count": 16,
      "outputs": [
        {
          "output_type": "stream",
          "text": [
            "0.9698823289099255\n"
          ],
          "name": "stdout"
        }
      ]
    },
    {
      "cell_type": "markdown",
      "metadata": {
        "id": "CZzprCSO6ubm"
      },
      "source": [
        "**→ 테스트 세트보다 훈련세트의 score가 점수가 더 낮은 것을 확인**\r\n",
        "\r\n",
        "*   훈련세트 점수는 좋지만 테스트세트의 점수는 굉장히 나쁜 경우 : 훈련세트에 **과대적합한다고 말함.**\r\n",
        "\r\n",
        "    (훈련세트에만 적합)\r\n",
        "\r\n",
        "*   테스트세트가 훈련세트의 점수보다 높거나, 모두 너무 낮은 경우 : 훈련세트에 **과소적합한다고 말함.**\r\n",
        "\r\n",
        "    (모델이 너무 단순하여 적절히 훈련이 되지 않은 경우)"
      ]
    },
    {
      "cell_type": "markdown",
      "metadata": {
        "id": "dhtrtB5n7z1C"
      },
      "source": [
        "---\r\n",
        "**과대(소)적합 해결**\r\n",
        "\r\n",
        "*   과소적합일 경우 모델을 조금 더 복잡하게 만들고, 과대적합일 경우 모델을 조금 더 단순하게 만든다.\r\n",
        "*   K 최근접 이웃 알고리즘에서 복잡하게 만드는 방법은 이웃의 개수 K를 줄이는 방법이 있음.\r\n",
        "\r\n",
        "    (반대로 단순하게 만드는 방법은 이웃의 개수 K를 늘리는 방법이 있음.)\r\n",
        "\r\n",
        "    → 이웃의 개수를 줄이면 훈련세트에 있는 국지적인 패턴에 민감해지고, 이웃의 개수를 늘리면 일반적인 패턴에 따른다.\r\n",
        "\r\n"
      ]
    },
    {
      "cell_type": "code",
      "metadata": {
        "colab": {
          "base_uri": "https://localhost:8080/"
        },
        "id": "STwAlQmR7zDy",
        "outputId": "5fef2ae3-6e8e-4b9f-cedd-49e8abf91ace"
      },
      "source": [
        "knr.n_neighbors = 3\r\n",
        "\r\n",
        "knr.fit(train_input, train_target)\r\n",
        "print(knr.score(train_input, train_target))"
      ],
      "execution_count": 17,
      "outputs": [
        {
          "output_type": "stream",
          "text": [
            "0.9804899950518966\n"
          ],
          "name": "stdout"
        }
      ]
    },
    {
      "cell_type": "code",
      "metadata": {
        "colab": {
          "base_uri": "https://localhost:8080/"
        },
        "id": "1R00BmTD8bBZ",
        "outputId": "7cad7d63-bf00-40ac-e158-79d3cad6c781"
      },
      "source": [
        "print(knr.score(test_input, test_target))"
      ],
      "execution_count": 18,
      "outputs": [
        {
          "output_type": "stream",
          "text": [
            "0.974645996398761\n"
          ],
          "name": "stdout"
        }
      ]
    },
    {
      "cell_type": "markdown",
      "metadata": {
        "id": "tHqvig5q81NZ"
      },
      "source": [
        "**훈련세트의 점수가 테스트 세트의 점수보다 높으므로 과소적합 문제 해결**"
      ]
    }
  ]
}